{
  "nbformat": 4,
  "nbformat_minor": 0,
  "metadata": {
    "colab": {
      "name": "CMICheck1.ipynb",
      "provenance": [],
      "collapsed_sections": [],
      "include_colab_link": true
    },
    "kernelspec": {
      "name": "python3",
      "display_name": "Python 3"
    }
  },
  "cells": [
    {
      "cell_type": "markdown",
      "metadata": {
        "id": "view-in-github",
        "colab_type": "text"
      },
      "source": [
        "<a href=\"https://colab.research.google.com/github/D40848397/DW_Sasi_pub/blob/master/CMICheck1.ipynb\" target=\"_parent\"><img src=\"https://colab.research.google.com/assets/colab-badge.svg\" alt=\"Open In Colab\"/></a>"
      ]
    },
    {
      "cell_type": "code",
      "metadata": {
        "id": "KzQ90wcS5Ijm",
        "colab_type": "code",
        "colab": {}
      },
      "source": [
        "import os\n",
        "import pandas as pd\n",
        "import numpy as np\n",
        "from datetime import datetime\n",
        "import warnings\n",
        "warnings.filterwarnings('ignore')"
      ],
      "execution_count": 1,
      "outputs": []
    },
    {
      "cell_type": "code",
      "metadata": {
        "id": "lNzCWKkgJ3yh",
        "colab_type": "code",
        "colab": {
          "base_uri": "https://localhost:8080/",
          "height": 124
        },
        "outputId": "e0ba7406-4ac0-4c07-a712-5991e4e22540"
      },
      "source": [
        "from google.colab import drive\n",
        "drive.mount('/content/drive')"
      ],
      "execution_count": 2,
      "outputs": [
        {
          "output_type": "stream",
          "text": [
            "Go to this URL in a browser: https://accounts.google.com/o/oauth2/auth?client_id=947318989803-6bn6qk8qdgf4n4g3pfee6491hc0brc4i.apps.googleusercontent.com&redirect_uri=urn%3aietf%3awg%3aoauth%3a2.0%3aoob&scope=email%20https%3a%2f%2fwww.googleapis.com%2fauth%2fdocs.test%20https%3a%2f%2fwww.googleapis.com%2fauth%2fdrive%20https%3a%2f%2fwww.googleapis.com%2fauth%2fdrive.photos.readonly%20https%3a%2f%2fwww.googleapis.com%2fauth%2fpeopleapi.readonly&response_type=code\n",
            "\n",
            "Enter your authorization code:\n",
            "··········\n",
            "Mounted at /content/drive\n"
          ],
          "name": "stdout"
        }
      ]
    },
    {
      "cell_type": "code",
      "metadata": {
        "id": "TacTj4dRadnO",
        "colab_type": "code",
        "colab": {}
      },
      "source": [
        "\n",
        "# datetime object containing current date and time\n",
        "now = datetime.now()\n",
        "dt_string = now.strftime(\"%Y%m%d_%H%M%S\")\n",
        "#print(\"date and time =\", dt_string)\t"
      ],
      "execution_count": 3,
      "outputs": []
    },
    {
      "cell_type": "code",
      "metadata": {
        "id": "F7cUG5xGd0iS",
        "colab_type": "code",
        "colab": {}
      },
      "source": [
        "def addtoDB(filepath):\n",
        "  df = pd.read_csv(filepath, skiprows=1, names=['table', 'scount', 'traget', 'Sep','x','tragetCount'], sep=r'\\s+', engine='python') \n",
        "  return df"
      ],
      "execution_count": 4,
      "outputs": []
    },
    {
      "cell_type": "code",
      "metadata": {
        "id": "5u3zYgzGaGSF",
        "colab_type": "code",
        "colab": {}
      },
      "source": [
        "def targetClean(target, x):\n",
        "  if (isinstance(target, int) or target.isdigit()):\n",
        "    return int(target)\n",
        "  else:\n",
        "    if isinstance(target, str):\n",
        "        if isinstance(x, int) and x > 0:\n",
        "          return int(x)"
      ],
      "execution_count": 5,
      "outputs": []
    },
    {
      "cell_type": "code",
      "metadata": {
        "id": "dV0ZjlylYTWB",
        "colab_type": "code",
        "colab": {}
      },
      "source": [
        "#save to SQLite\n",
        "\n",
        "import sqlite3\n",
        "con = sqlite3.connect(\"/content/drive/My Drive/Colab Notebooks/Sasi-Dev/CMIAdminLog.db\")\n",
        "\n",
        "def storeDB(df):\n",
        "  df.to_sql(name='syncCheck', con=con, if_exists='append')\n",
        "  return"
      ],
      "execution_count": 6,
      "outputs": []
    },
    {
      "cell_type": "code",
      "metadata": {
        "id": "ESnc4n8YcJYa",
        "colab_type": "code",
        "colab": {}
      },
      "source": [
        "directory = r'/content/drive/My Drive/CMICompareLogs'\n",
        "schoollist =['BNR']\n",
        "for entry in os.scandir(directory):\n",
        "  #print(entry.path)\n",
        "  if (entry.path.endswith(\":00\")):\n",
        "      path = entry.path\n",
        "      if any(ele in path for ele in schoollist):\n",
        "        \n",
        "        with open(entry.path, 'r') as f:\n",
        "          ftimestamp= f.readline()\n",
        "          ftimestamp= ftimestamp[:17]\n",
        "          insti = path[path.rfind('/')+1:path.rfind('BNR_')-1]\n",
        "          #print(ftimestamp)\n",
        "          #print(entry.path)\n",
        "          df = addtoDB(entry.path)\n",
        "          df['traget'] = df['Sep'] \n",
        "          df=df.drop(columns=['Sep','tragetCount'])\n",
        "          df = df.fillna(value=0)\n",
        "          df=df[df.table != 0]\n",
        "\n",
        "          badx= ['Differences','========','compilation']\n",
        "          df = df[~df.x.isin(badx)]\n",
        "\n",
        "          badt= [0,'<']\n",
        "          df = df[~df.table.isin(badt)]\n",
        "\n",
        "          df['x'] = pd.to_numeric(df['x'])\n",
        "          df['traget'] = df.apply(lambda x: targetClean(x['traget'],x['x']),axis=1) \n",
        "          df=df.drop(columns=['x'])\n",
        "          df['runTimeStamp']= ftimestamp\n",
        "          df['institution']=insti\n",
        "          df['table']= df['table'].str.replace(',','')\n",
        "          df['table']= df['table'].str.replace(' ','')\n",
        "          df=df.drop_duplicates()\n",
        "          try:\n",
        "            storeDB(df)\n",
        "          except:\n",
        "            df.head(3)\n",
        "          \n",
        "          # move burned files to archive \n",
        "          head_tail = os.path.split(path) \n",
        "          dirname = head_tail[0]\n",
        "          filename= head_tail[1] \n",
        "          archieveDir = dirname+'/'+ dt_string \n",
        "          if not os.path.exists(archieveDir):\n",
        "            os.mkdir( archieveDir)\n",
        "          archieveFile = archieveDir + '/'+ filename\n",
        "          os.rename(path, archieveFile)\n"
      ],
      "execution_count": 7,
      "outputs": []
    },
    {
      "cell_type": "code",
      "metadata": {
        "id": "RLBCAO1YXT-r",
        "colab_type": "code",
        "colab": {
          "base_uri": "https://localhost:8080/",
          "height": 138
        },
        "outputId": "d69ec3dd-fa2e-478c-f087-2db89a31971c"
      },
      "source": [
        "pd.read_sql('select institution, count(*) from syncCheck group by institution ', con)"
      ],
      "execution_count": 8,
      "outputs": [
        {
          "output_type": "execute_result",
          "data": {
            "text/html": [
              "<div>\n",
              "<style scoped>\n",
              "    .dataframe tbody tr th:only-of-type {\n",
              "        vertical-align: middle;\n",
              "    }\n",
              "\n",
              "    .dataframe tbody tr th {\n",
              "        vertical-align: top;\n",
              "    }\n",
              "\n",
              "    .dataframe thead th {\n",
              "        text-align: right;\n",
              "    }\n",
              "</style>\n",
              "<table border=\"1\" class=\"dataframe\">\n",
              "  <thead>\n",
              "    <tr style=\"text-align: right;\">\n",
              "      <th></th>\n",
              "      <th>institution</th>\n",
              "      <th>count(*)</th>\n",
              "    </tr>\n",
              "  </thead>\n",
              "  <tbody>\n",
              "    <tr>\n",
              "      <th>0</th>\n",
              "      <td>AUC</td>\n",
              "      <td>142894</td>\n",
              "    </tr>\n",
              "    <tr>\n",
              "      <th>1</th>\n",
              "      <td>CU</td>\n",
              "      <td>93400</td>\n",
              "    </tr>\n",
              "    <tr>\n",
              "      <th>2</th>\n",
              "      <td>ROSS</td>\n",
              "      <td>146636</td>\n",
              "    </tr>\n",
              "  </tbody>\n",
              "</table>\n",
              "</div>"
            ],
            "text/plain": [
              "  institution  count(*)\n",
              "0         AUC    142894\n",
              "1          CU     93400\n",
              "2        ROSS    146636"
            ]
          },
          "metadata": {
            "tags": []
          },
          "execution_count": 8
        }
      ]
    },
    {
      "cell_type": "code",
      "metadata": {
        "id": "kP_yFCQgvK9V",
        "colab_type": "code",
        "colab": {}
      },
      "source": [
        "#pd.read_sql('select * from cmitablelist', con)"
      ],
      "execution_count": 9,
      "outputs": []
    },
    {
      "cell_type": "code",
      "metadata": {
        "id": "IDQbE5ln4ecw",
        "colab_type": "code",
        "colab": {}
      },
      "source": [
        "#cmi=pd.read_excel('/content/drive/My Drive/Colab Notebooks/Sasi-Dev/CMITables.xlsx', sheet_name='Sheet1', header=0, names=['Institution','TableName'])"
      ],
      "execution_count": 49,
      "outputs": []
    },
    {
      "cell_type": "code",
      "metadata": {
        "id": "TlXl3RBXkJZp",
        "colab_type": "code",
        "colab": {}
      },
      "source": [
        "#cmi.head(3)"
      ],
      "execution_count": null,
      "outputs": []
    },
    {
      "cell_type": "code",
      "metadata": {
        "id": "ifXTykDwkR7Q",
        "colab_type": "code",
        "colab": {}
      },
      "source": [
        "cmi.to_sql(name='cmitablelist', con=con, if_exists='replace')"
      ],
      "execution_count": 51,
      "outputs": []
    },
    {
      "cell_type": "code",
      "metadata": {
        "id": "-e6_xWbVdtpj",
        "colab_type": "code",
        "colab": {}
      },
      "source": [
        "sql = 'select sc.runTimeStamp, sc.institution, sc.\"table\" ,  sc.scount sourceCount, sc.traget SnowFlakeCount, (sc.traget - sc.scount) as Diff , (((sc.traget - sc.scount )/sc.scount) * 100) as Percent \\\n",
        "from cmitablelist c,  syncCheck sc \\\n",
        "where \\\n",
        "c.TablesNames = sc.\"table\" AND \\\n",
        "c.Institution = sc.institution AND \\\n",
        "(sc.traget - sc.scount ) <> 0 \\\n",
        "order by sc.runTimeStamp, sc.institution;'"
      ],
      "execution_count": 13,
      "outputs": []
    },
    {
      "cell_type": "code",
      "metadata": {
        "id": "nNV1JLmSdtt2",
        "colab_type": "code",
        "colab": {}
      },
      "source": [
        "df_res=pd.read_sql(sql, con)"
      ],
      "execution_count": 14,
      "outputs": []
    },
    {
      "cell_type": "code",
      "metadata": {
        "id": "OevEIVLjiv6L",
        "colab_type": "code",
        "colab": {}
      },
      "source": [
        "df_res= df_res.drop_duplicates()"
      ],
      "execution_count": 15,
      "outputs": []
    },
    {
      "cell_type": "code",
      "metadata": {
        "id": "Vq7FWNfHj85a",
        "colab_type": "code",
        "colab": {}
      },
      "source": [
        "df_resAUC=df_res[df_res.institution=='AUC']\n",
        "df_resCU=df_res[df_res.institution=='CU']\n",
        "df_resROSS=df_res[df_res.institution=='ROSS']\n"
      ],
      "execution_count": 16,
      "outputs": []
    },
    {
      "cell_type": "code",
      "metadata": {
        "id": "KRYDt4i2jawG",
        "colab_type": "code",
        "colab": {}
      },
      "source": [
        "df_AUCvarience = df_resAUC.pivot(index='table',columns='runTimeStamp', values='Diff').reset_index()\n",
        "df_CUvarience = df_resCU.pivot(index='table',columns='runTimeStamp', values='Diff').reset_index()\n",
        "df_ROSSvarience = df_resROSS.pivot(index='table',columns='runTimeStamp', values='Diff').reset_index()"
      ],
      "execution_count": 17,
      "outputs": []
    },
    {
      "cell_type": "code",
      "metadata": {
        "id": "yx78Ez_RueNz",
        "colab_type": "code",
        "colab": {}
      },
      "source": [
        "fl= '/content/drive/My Drive/Reports/'+dt_string+'_'+ 'CMIVarienace.xlsx'\n",
        "with pd.ExcelWriter(fl) as writer:  \n",
        "    df_AUCvarience.to_excel(writer, sheet_name='AUC')\n",
        "    df_CUvarience.to_excel(writer, sheet_name='CU')\n",
        "    df_ROSSvarience.to_excel(writer, sheet_name='ROSS')"
      ],
      "execution_count": 18,
      "outputs": []
    },
    {
      "cell_type": "code",
      "metadata": {
        "id": "kDIaMqBx4Z5N",
        "colab_type": "code",
        "colab": {}
      },
      "source": [
        "Acols=df_AUCvarience.columns[-3:].insert(0,'table')\n",
        "l_auc = df_AUCvarience[Acols]\n",
        "\n",
        "Ccols=df_CUvarience.columns[-3:].insert(0,'table')\n",
        "l_cu = df_CUvarience[Ccols]\n",
        "\n",
        "Rcols=df_ROSSvarience.columns[-3:].insert(0,'table')\n",
        "l_ross = df_ROSSvarience[Rcols]"
      ],
      "execution_count": 19,
      "outputs": []
    },
    {
      "cell_type": "code",
      "metadata": {
        "id": "3KqXLLb5ueWz",
        "colab_type": "code",
        "colab": {}
      },
      "source": [
        "fl3= '/content/drive/My Drive/Reports/'+dt_string+'_last3_CMIVarienace.xlsx'\n",
        "with pd.ExcelWriter(fl3) as writer:  \n",
        "    l_auc.to_excel(writer, sheet_name='AUC')\n",
        "    l_cu.to_excel(writer, sheet_name='CU')\n",
        "    l_ross.to_excel(writer, sheet_name='ROSS')"
      ],
      "execution_count": 20,
      "outputs": []
    },
    {
      "cell_type": "code",
      "metadata": {
        "id": "JTTeLYXj2YCQ",
        "colab_type": "code",
        "colab": {}
      },
      "source": [
        "sqlx = 'select  sc.institution, sc.\"table\" ,  sc.scount sourceCount, sc.traget SnowFlakeCount, (sc.traget - sc.scount) \\\n",
        "as Diff , ABS(((sc.traget - sc.scount )/sc.scount) * 100) as \"Varience %\" \\\n",
        "from cmitablelist c,  syncCheck sc \\\n",
        "where \\\n",
        "c.TablesNames = sc.\"table\" AND \\\n",
        "c.Institution = sc.institution AND \\\n",
        "(sc.traget - sc.scount ) <> 0 AND \\\n",
        "sc.runTimeStamp in ( \\\n",
        "  select max(runTimeStamp)from syncCheck \\\n",
        "    group by institution ) \\\n",
        "order by  sc.institution;' "
      ],
      "execution_count": 21,
      "outputs": []
    },
    {
      "cell_type": "code",
      "metadata": {
        "id": "gbQ8MT3L2YYH",
        "colab_type": "code",
        "colab": {}
      },
      "source": [
        "df_rep=pd.read_sql(sqlx, con)\n",
        "df_rep= df_rep.drop_duplicates()"
      ],
      "execution_count": 22,
      "outputs": []
    },
    {
      "cell_type": "code",
      "metadata": {
        "id": "lD0rhYuVl39s",
        "colab_type": "code",
        "colab": {}
      },
      "source": [
        "df_rep['sourceCount']= df_rep['sourceCount'].apply(int)\n",
        "df_rep['SnowFlakeCount']= df_rep['SnowFlakeCount'].apply(int)\n",
        "df_rep['Diff']= df_rep['Diff'].apply(int)\n",
        "df_rep['Varience %']= df_rep['Varience %'].round(6)"
      ],
      "execution_count": 23,
      "outputs": []
    },
    {
      "cell_type": "code",
      "metadata": {
        "id": "N01OsTJH2Xhu",
        "colab_type": "code",
        "colab": {}
      },
      "source": [
        "sqlx2 = 'Select institution, max(runTimeStamp) as  Dttime from syncCheck \\\n",
        "    group by institution '"
      ],
      "execution_count": 24,
      "outputs": []
    },
    {
      "cell_type": "code",
      "metadata": {
        "id": "eBhG5D8X72g4",
        "colab_type": "code",
        "colab": {}
      },
      "source": [
        "df_idt=pd.read_sql(sqlx2, con)"
      ],
      "execution_count": 25,
      "outputs": []
    },
    {
      "cell_type": "code",
      "metadata": {
        "id": "cQJoExPz8HvP",
        "colab_type": "code",
        "colab": {}
      },
      "source": [
        "dt= df_idt['Dttime'].max()\n",
        "dts=pd.to_datetime(dt).strftime(\"%Y%m%dT%H%M%S\")\n",
        "sheetx =pd.to_datetime(dt).strftime(\"%m-%d-%Y_%H.%M\")"
      ],
      "execution_count": 26,
      "outputs": []
    },
    {
      "cell_type": "code",
      "metadata": {
        "id": "q2mMwSu2t2Jz",
        "colab_type": "code",
        "colab": {
          "base_uri": "https://localhost:8080/",
          "height": 138
        },
        "outputId": "5668ef90-b0e7-4866-91cd-04282ad1486c"
      },
      "source": [
        "df_idt"
      ],
      "execution_count": 27,
      "outputs": [
        {
          "output_type": "execute_result",
          "data": {
            "text/html": [
              "<div>\n",
              "<style scoped>\n",
              "    .dataframe tbody tr th:only-of-type {\n",
              "        vertical-align: middle;\n",
              "    }\n",
              "\n",
              "    .dataframe tbody tr th {\n",
              "        vertical-align: top;\n",
              "    }\n",
              "\n",
              "    .dataframe thead th {\n",
              "        text-align: right;\n",
              "    }\n",
              "</style>\n",
              "<table border=\"1\" class=\"dataframe\">\n",
              "  <thead>\n",
              "    <tr style=\"text-align: right;\">\n",
              "      <th></th>\n",
              "      <th>institution</th>\n",
              "      <th>Dttime</th>\n",
              "    </tr>\n",
              "  </thead>\n",
              "  <tbody>\n",
              "    <tr>\n",
              "      <th>0</th>\n",
              "      <td>AUC</td>\n",
              "      <td>08-26-20 08:03:56</td>\n",
              "    </tr>\n",
              "    <tr>\n",
              "      <th>1</th>\n",
              "      <td>CU</td>\n",
              "      <td>08-26-20 07:15:54</td>\n",
              "    </tr>\n",
              "    <tr>\n",
              "      <th>2</th>\n",
              "      <td>ROSS</td>\n",
              "      <td>08-26-20 07:31:43</td>\n",
              "    </tr>\n",
              "  </tbody>\n",
              "</table>\n",
              "</div>"
            ],
            "text/plain": [
              "  institution             Dttime\n",
              "0         AUC  08-26-20 08:03:56\n",
              "1          CU  08-26-20 07:15:54\n",
              "2        ROSS  08-26-20 07:31:43"
            ]
          },
          "metadata": {
            "tags": []
          },
          "execution_count": 27
        }
      ]
    },
    {
      "cell_type": "code",
      "metadata": {
        "id": "LXCuOXVK7Y-N",
        "colab_type": "code",
        "colab": {}
      },
      "source": [
        "xlfile = '/content/drive/My Drive/Reports/' +dts+'_CMIBNR_DecrepancyReport.xlsx'\n",
        "#xlfile"
      ],
      "execution_count": 28,
      "outputs": []
    },
    {
      "cell_type": "code",
      "metadata": {
        "id": "1vDUS_he8pve",
        "colab_type": "code",
        "colab": {}
      },
      "source": [
        " df_rep.to_excel(xlfile, sheet_name=sheetx)"
      ],
      "execution_count": 29,
      "outputs": []
    },
    {
      "cell_type": "code",
      "metadata": {
        "id": "Om-wsRhEkcjA",
        "colab_type": "code",
        "colab": {}
      },
      "source": [
        "con.close()"
      ],
      "execution_count": 30,
      "outputs": []
    },
    {
      "cell_type": "code",
      "metadata": {
        "id": "NyQtHBhhyGzk",
        "colab_type": "code",
        "colab": {}
      },
      "source": [
        "receiver_email= ['Christian.duque@adtalem.com',\\\n",
        "'Sanjay.patel@adtalem.com',\\\n",
        "'Deepthi.janapareddy@adtalem.com',\\\n",
        "'Kalai.vijaianand@adtalem.com',\\\n",
        "'Meenal.jain@adtalem.com',\\\n",
        "'Veerendra.ponduri@adtalem.com',\\\n",
        "'Sri.hari@adtalem.com',\\\n",
        "'ACE_Requests@adtalem.com', \\\n",
        "'WBehrns@aucmed.edu',\\\n",
        "'RByard@RossU.edu',\\\n",
        "'DKheterpal@chamberlain.edu',\\\n",
        "'AShamsuddin@chamberlain.edu',\\\n",
        "'Stephen.Haworth@adtalem.com',\\\n",
        "'Lucas.DeBritoRocha@adtalem.com',\\\n",
        "'Carlos.PiresJunior@adtalem.com', \\\n",
        "'sasikumar.manickam@adtalem.com',\\\n",
        "'Banipal.Michel@adtalem.com',\\\n",
        "'Eva.Pagacs@adtalem.com',\\\n",
        "'Ramakrishnan.Purushothaman@adtalem.com',\\\n",
        "'Eleftherios.Sigalos@adtalem.com']"
      ],
      "execution_count": 31,
      "outputs": []
    },
    {
      "cell_type": "code",
      "metadata": {
        "id": "X6Hv43fYpqZU",
        "colab_type": "code",
        "colab": {}
      },
      "source": [
        "#receiver_email"
      ],
      "execution_count": 32,
      "outputs": []
    },
    {
      "cell_type": "code",
      "metadata": {
        "id": "uztDgygoOfOL",
        "colab_type": "code",
        "colab": {}
      },
      "source": [
        "import email, smtplib, ssl\n",
        "from email import encoders\n",
        "from email.mime.base import MIMEBase\n",
        "from email.mime.multipart import MIMEMultipart\n",
        "from email.mime.text import MIMEText\n",
        "\n",
        "subject = \"CMI Banner - Snowflake Discrepancy report  \" + dts\n",
        "body = \"CMI: Banner - Snowflake Discrepancy report as of \"+ sheetx\n",
        "\n",
        "sender_email = \"atgeanalytics@gmail.com\"\n",
        "password = \"uzdkzrovvaefwnis\"\n",
        "\n",
        "# Create a multipart message and set headers\n",
        "message = MIMEMultipart()\n",
        "message[\"From\"] = sender_email\n",
        "message[\"To\"] = ', '.join(receiver_email)\n",
        "message[\"Subject\"] = subject\n",
        "#message[\"Bcc\"] = receiver_email  # Recommended for mass emails\n",
        "\n",
        "# Add body to email\n",
        "message.attach(MIMEText(body, \"plain\"))\n",
        "\n",
        "filename = xlfile  # In same directory as script\n",
        "filenm = dts+'_CMIBNR_DecrepancyReport.xlsx'\n",
        "# Open PDF file in binary mode\n",
        "with open(filename, \"rb\") as attachment:\n",
        "    # Add file as application/octet-stream\n",
        "    # Email client can usually download this automatically as attachment\n",
        "    part = MIMEBase(\"application\", \"octet-stream\")\n",
        "    part.set_payload(attachment.read())\n",
        "\n",
        "# Encode file in ASCII characters to send by email    \n",
        "encoders.encode_base64(part)\n",
        "\n",
        "# Add header as key/value pair to attachment part\n",
        "part.add_header(\n",
        "    \"Content-Disposition\",\n",
        "    f\"attachment; filename= {filenm}\",\n",
        ")\n",
        "\n",
        "# Add attachment to message and convert message to string\n",
        "message.attach(part)\n",
        "text = message.as_string()\n",
        "\n",
        "# Log in to server using secure context and send email\n",
        "context = ssl.create_default_context()\n",
        "with smtplib.SMTP_SSL(\"smtp.gmail.com\", 465, context=context) as server:\n",
        "    server.login(sender_email, password)\n",
        "    server.sendmail(sender_email, receiver_email, text)"
      ],
      "execution_count": 33,
      "outputs": []
    },
    {
      "cell_type": "code",
      "metadata": {
        "id": "EJ2UtYCgPOfQ",
        "colab_type": "code",
        "colab": {}
      },
      "source": [
        "#con = sqlite3.connect(\"/content/drive/My Drive/Colab Notebooks/Sasi-Dev/CMIAdminLog.db\")"
      ],
      "execution_count": 54,
      "outputs": []
    },
    {
      "cell_type": "code",
      "metadata": {
        "id": "RcbiZffH8wzv",
        "colab_type": "code",
        "colab": {}
      },
      "source": [
        "#sqlx3=\"select * FROM 'cmitablelist' where TableName ='SPRCMNT'\"\n",
        "#pd.read_sql(sqlx3, con)\n"
      ],
      "execution_count": null,
      "outputs": []
    },
    {
      "cell_type": "code",
      "metadata": {
        "id": "ZceQKTR-7YkH",
        "colab_type": "code",
        "colab": {}
      },
      "source": [
        "#con.close()"
      ],
      "execution_count": 57,
      "outputs": []
    },
    {
      "cell_type": "code",
      "metadata": {
        "id": "uQNcQpbf-nKT",
        "colab_type": "code",
        "colab": {}
      },
      "source": [
        ""
      ],
      "execution_count": null,
      "outputs": []
    }
  ]
}